{
 "cells": [
  {
   "cell_type": "markdown",
   "metadata": {
    "tags": []
   },
   "source": [
    "# What is this notebook?\n",
    "**OSM** or **O**pen**S**treet**M**ap is a free and open source online map of the world. By providing 4 [geodetic coordinates](https://en.wikipedia.org/wiki/Geodetic_coordinates) (left, right, top and bottom) surrounding the area of the map you want, this notebook can then download and output a **PNG** image file of that area."
   ]
  },
  {
   "cell_type": "code",
   "execution_count": 1,
   "metadata": {
    "tags": []
   },
   "outputs": [],
   "source": [
    "from PIL import Image\n",
    "import requests\n",
    "\n",
    "import math\n",
    "import io"
   ]
  },
  {
   "cell_type": "markdown",
   "metadata": {},
   "source": [
    "### Conversion functions"
   ]
  },
  {
   "cell_type": "code",
   "execution_count": 2,
   "metadata": {
    "tags": []
   },
   "outputs": [],
   "source": [
    "# Formulas reference: https://en.wikipedia.org/wiki/Web_Mercator_projection\n",
    "\n",
    "def lat2pix(r, z, floor=True):\n",
    "    # computes Y-pixel number from latitude.\n",
    "    # r: latitude in radians\n",
    "    #    range should be: R < r <= R\n",
    "    #    where R = 2*atan(exp(pi))-pi/2 = ~1.484422\n",
    "    # z: zoom level, integer >= 0\n",
    "    \n",
    "    k = 2**(z+7) * (1 - math.log(math.tan(math.pi/4 + r/2))/math.pi)\n",
    "    return math.floor(k) if floor else k\n",
    "\n",
    "\n",
    "def pix2lat(y, z, round_=True):\n",
    "    # computes latitude in radians from Y-pixel number.\n",
    "    # y: Y-pixel number\n",
    "    #    range should be: 0 <= y <= 2**(z+8)-1\n",
    "    # z: zoom level, integer >= 0\n",
    "    \n",
    "    k = 2*math.atan(math.exp(math.pi*(1-y*2**-(z+7))))-math.pi/2\n",
    "    return round(k, 8) if round_ else k\n",
    "\n",
    "\n",
    "def lon2pix(r, z, floor=True):\n",
    "    # computes X-pixel number from longitude.\n",
    "    # r: longitude in radians\n",
    "    #    range should be: -pi <= r < pi\n",
    "    # z: zoom level, integer >= 0\n",
    "    \n",
    "    k = 2**(z+7)/math.pi * (r + math.pi)\n",
    "    return math.floor(k) if floor else k\n",
    "\n",
    "\n",
    "def pix2lon(x, z, round_=True):\n",
    "    # computes longitude in radians from X-pixel number.\n",
    "    # x: X-pixel number\n",
    "    #    range should be: 0 <= x <= 2**(z+8)-1\n",
    "    # z: zoom level, integer >= 0\n",
    "    \n",
    "    k = math.pi*(x*2**-(z+7)-1)\n",
    "    return round(k, 8) if round_ else k"
   ]
  },
  {
   "cell_type": "markdown",
   "metadata": {},
   "source": [
    "### Downloader and helper functions"
   ]
  },
  {
   "cell_type": "code",
   "execution_count": 3,
   "metadata": {
    "tags": []
   },
   "outputs": [],
   "source": [
    "def download_tiles(x1, x2, y1, y2, z, session=None):\n",
    "    # downloads and yields bytes of tile images.\n",
    "    # x1, x2, y1, y2: starting and ending (inclusive) tile numbers\n",
    "    # z: zoom level\n",
    "    \n",
    "    session = session or requests.Session()\n",
    "    for iy in range(y1, y2 + 1):\n",
    "        for ix in range(x1, x2 + 1):\n",
    "            url = f'https://tile.openstreetmap.org/{z}/{ix}/{iy}.png'\n",
    "            response = session.get(url)\n",
    "            response.raise_for_status()\n",
    "            \n",
    "            yield response.content\n",
    "\n",
    "\n",
    "def concat_tiles(tiles, x, y):\n",
    "    # concatenates tiles into a single image.\n",
    "    # tiles: iterable of PIL.Image\n",
    "    # x, y: number of tiles in the x and y axes\n",
    "    \n",
    "    im = Image.new('RGB', (256*x, 256*y))\n",
    "    for i, tile in enumerate(tiles):\n",
    "        ix, iy = i % x, i // x\n",
    "        im.paste(tile, (256*ix, 256*iy))\n",
    "    return im\n",
    "\n",
    "\n",
    "def b2im(b):\n",
    "    # reads image data in bytes and returns PIL.Image\n",
    "    return Image.open(io.BytesIO(b))"
   ]
  },
  {
   "cell_type": "markdown",
   "metadata": {
    "tags": []
   },
   "source": [
    "### How to get the coordinates?\n",
    "\n",
    "1. Go to https://www.openstreetmap.org\n",
    "2. Move the map to where you want.\n",
    "3. On the top left, click \"Export\".\n",
    "4. On the left panel, click \"Manually select a different area\".\n",
    "5. Move the box around to where you want.\n",
    "6. On the left panel, Copy the 4 coordinates.\n",
    "7. Use those for the next cell values."
   ]
  },
  {
   "cell_type": "code",
   "execution_count": 4,
   "metadata": {},
   "outputs": [],
   "source": [
    "# Zoom level is the detail of the map.\n",
    "# The bigger the number the larger the PNG file.\n",
    "zoom_level = 13\n",
    "\n",
    "# Below variables are coordinate you've copied.\n",
    "lat_top = 51.5153\n",
    "lat_bottom = 51.4575\n",
    "lon_left = -0.0810\n",
    "lon_right =0.0810\n",
    "\n",
    "# Output file name.\n",
    "# Note: you may change file extension to get a different image format.\n",
    "#       for example \"map.jpg\" will output a JPEG image.\n",
    "file_name = 'map.png'"
   ]
  },
  {
   "cell_type": "markdown",
   "metadata": {},
   "source": [
    "Run the following cell to initialize related variables and check for output image resolution."
   ]
  },
  {
   "cell_type": "code",
   "execution_count": 5,
   "metadata": {},
   "outputs": [
    {
     "name": "stdout",
     "output_type": "stream",
     "text": [
      "Output image resolution will be: 944x542\n"
     ]
    }
   ],
   "source": [
    "pix_top = lat2pix(math.radians(lat_top), zoom_level)\n",
    "pix_bottom = lat2pix(math.radians(lat_bottom), zoom_level)\n",
    "pix_left = lon2pix(math.radians(lon_left), zoom_level)\n",
    "pix_right = lon2pix(math.radians(lon_right), zoom_level)\n",
    "\n",
    "width = pix_right - pix_left + 1\n",
    "height = pix_bottom - pix_top + 1\n",
    "\n",
    "x1, x2 = pix_left // 256, pix_right // 256\n",
    "y1, y2 = pix_top // 256, pix_bottom // 256\n",
    "\n",
    "x_offset = pix_left % 256\n",
    "y_offset = pix_top % 256\n",
    "\n",
    "print(f'Output image resolution will be: {width}x{height}')"
   ]
  },
  {
   "cell_type": "markdown",
   "metadata": {},
   "source": [
    "If you satisfy with the resolution, run the next cell."
   ]
  },
  {
   "cell_type": "code",
   "execution_count": 6,
   "metadata": {},
   "outputs": [],
   "source": [
    "im = concat_tiles(map(b2im, download_tiles(x1, x2, y1, y2, zoom_level)), x2-x1+1, y2-y1+1)\n",
    "im = im.crop((x_offset, y_offset, x_offset + width, y_offset + height))\n",
    "im.save(file_name)"
   ]
  },
  {
   "cell_type": "code",
   "execution_count": null,
   "metadata": {},
   "outputs": [],
   "source": []
  }
 ],
 "metadata": {
  "kernelspec": {
   "display_name": "Python 3",
   "language": "python",
   "name": "python3"
  },
  "language_info": {
   "codemirror_mode": {
    "name": "ipython",
    "version": 3
   },
   "file_extension": ".py",
   "mimetype": "text/x-python",
   "name": "python",
   "nbconvert_exporter": "python",
   "pygments_lexer": "ipython3",
   "version": "3.8.6"
  }
 },
 "nbformat": 4,
 "nbformat_minor": 4
}
